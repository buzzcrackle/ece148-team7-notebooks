{
 "cells": [
  {
   "cell_type": "code",
   "execution_count": 73,
   "metadata": {},
   "outputs": [],
   "source": [
    "import glob\n",
    "from sklearn.svm import SVC\n",
    "from sklearn.pipeline import make_pipeline\n",
    "from sklearn.preprocessing import StandardScaler\n",
    "from sklearn.preprocessing import normalize\n",
    "import csv\n",
    "import pandas as pd\n",
    "import random\n",
    "from collections import defaultdict\n",
    "import pickle"
   ]
  },
  {
   "cell_type": "code",
   "execution_count": 74,
   "metadata": {},
   "outputs": [],
   "source": [
    "locations = ['not_crossing_wen', 'not_crossing_nick', 'not_crossing']\n",
    "locations_crossing = ['crossing_wen', 'crossing_nick', 'crossing']\n",
    "\n",
    "not_crossing = defaultdict(list)\n",
    "crossing = defaultdict(list)"
   ]
  },
  {
   "cell_type": "code",
   "execution_count": 75,
   "metadata": {},
   "outputs": [],
   "source": [
    "# Read only the valid data into dict\n",
    "\n",
    "for location in locations:\n",
    "    path = 'data/' + location + '/'\n",
    "    for filename in glob.glob(path + '*.csv'):\n",
    "        name = filename.replace(path, '')[:-4]\n",
    "\n",
    "        df=pd.read_csv(filename)\n",
    "        if len(df.columns) >= 5 * 2: # 2 columns per point for x & y\n",
    "            for data in df.values:\n",
    "                not_crossing[name].append(data)\n",
    "                \n",
    "for location in locations_crossing:\n",
    "    path = 'data/' + location + '/'\n",
    "    for filename in glob.glob(path + '*.csv'):\n",
    "        name = filename.replace(path, '')[:-4]\n",
    "\n",
    "        df=pd.read_csv(filename)\n",
    "        if len(df.columns) >= 5 * 2: # 2 columns per point for x & y\n",
    "            for data in df.values:\n",
    "                crossing[name].append(data)"
   ]
  },
  {
   "cell_type": "code",
   "execution_count": 84,
   "metadata": {},
   "outputs": [
    {
     "data": {
      "text/plain": [
       "[array([0.38805532, 0.08132222, 0.3928495 , 0.07436835, 0.38376334,\n",
       "        0.07147983, 0.39474568, 0.07911147, 0.37062904, 0.07041246,\n",
       "        0.380716  , 0.11870236, 0.35417375, 0.10275031, 0.38235566,\n",
       "        0.1763957 , 0.35862297, 0.17170343, 0.40344015, 0.21594571,\n",
       "        0.39685455, 0.21892008, 0.35804254, 0.23037648, 0.34468532,\n",
       "        0.22811249, 0.35048506, 0.32761222, 0.34842077, 0.32894176,\n",
       "        0.34485534, 0.42615405, 0.33247641, 0.43560019, 0.36754808,\n",
       "        0.11209422]),\n",
       " array([0.38343269, 0.09680031, 0.38688397, 0.09064046, 0.37991419,\n",
       "        0.08724332, 0.38666096, 0.09162083, 0.36820725, 0.08272316,\n",
       "        0.37677792, 0.12523876, 0.34593552, 0.10810407, 0.38498998,\n",
       "        0.16869476, 0.32637277, 0.15388227, 0.41926196, 0.1748613 ,\n",
       "        0.32543752, 0.20542498, 0.34980398, 0.2237018 , 0.33314329,\n",
       "        0.22108464, 0.35381913, 0.30551109, 0.34165591, 0.3070375 ,\n",
       "        0.33114693, 0.39260769, 0.32559067, 0.4013333 , 0.36137345,\n",
       "        0.11714577]),\n",
       " array([0.38141975, 0.09980921, 0.38472405, 0.09306028, 0.37830591,\n",
       "        0.09050739, 0.38512835, 0.09375799, 0.36717421, 0.08531248,\n",
       "        0.37674803, 0.12944545, 0.34316534, 0.11192692, 0.38556761,\n",
       "        0.17059352, 0.31659642, 0.15248318, 0.41984573, 0.16470303,\n",
       "        0.30177245, 0.20286703, 0.34859112, 0.22769238, 0.32862946,\n",
       "        0.22424448, 0.35242313, 0.31209129, 0.34413004, 0.31252998,\n",
       "        0.32057959, 0.39797154, 0.31849056, 0.41151553, 0.36003754,\n",
       "        0.12076325]),\n",
       " array([0.38156658, 0.10056519, 0.38532597, 0.0938009 , 0.37837276,\n",
       "        0.09087209, 0.38567823, 0.09356201, 0.36583143, 0.08499704,\n",
       "        0.37445289, 0.12739204, 0.34088209, 0.11183381, 0.38387656,\n",
       "        0.16885342, 0.31215242, 0.15268238, 0.41713339, 0.17168751,\n",
       "        0.29930237, 0.204309  , 0.3494117 , 0.22737424, 0.32754746,\n",
       "        0.22498348, 0.35472879, 0.31643695, 0.34352034, 0.31661558,\n",
       "        0.31826428, 0.40257224, 0.31474131, 0.41428739, 0.35775629,\n",
       "        0.11946062]),\n",
       " array([0.38145086, 0.09938435, 0.38560978, 0.09289096, 0.37814552,\n",
       "        0.08957452, 0.38644776, 0.09339479, 0.36579868, 0.08443172,\n",
       "        0.37691784, 0.1287372 , 0.34120494, 0.11331963, 0.3819432 ,\n",
       "        0.17490149, 0.31193322, 0.15368588, 0.41317639, 0.18405031,\n",
       "        0.30818152, 0.20686999, 0.35202998, 0.23092873, 0.32894212,\n",
       "        0.22792672, 0.3501747 , 0.32416967, 0.34167847, 0.32464188,\n",
       "        0.31485984, 0.41709214, 0.30956554, 0.42431918, 0.35925388,\n",
       "        0.12113533])]"
      ]
     },
     "execution_count": 84,
     "metadata": {},
     "output_type": "execute_result"
    }
   ],
   "source": [
    "# sanity check\n",
    "crossing['01234567891011121314151617'][:5]"
   ]
  },
  {
   "cell_type": "code",
   "execution_count": 98,
   "metadata": {},
   "outputs": [
    {
     "name": "stdout",
     "output_type": "stream",
     "text": [
      "✔️ 34567891011121314151617 score: 1.0 count: 73\n",
      "✔️ 011121314151617 score: 1.0 count: 13\n",
      "✔️ 611121314151617 score: 0.6666666666666666 count: 9\n",
      "✔️ 567891011121314151617 score: 0.7 count: 39\n",
      "✔️ 111213141516 score: 0.8918918918918919 count: 148\n",
      "⚠️ low score 012345678911121314151617 count: 13 score: 0.5\n",
      "✔️ 0124681011121314151617 score: 1.0 count: 28\n",
      "⚠️ low score 01234567811121314151617 count: 10 score: 0.3333333333333333\n",
      "✔️ 5681011121314151617 score: 0.6666666666666666 count: 12\n",
      "✔️ 01234567891011121314151617 score: 0.9252336448598131 count: 426\n",
      "✔️ 11121314151617 score: 0.6470588235294118 count: 65\n",
      "✔️ 024567891011121314151617 score: 1.0 count: 33\n",
      "✔️ 0124567891011121314151617 score: 0.6900826446280992 count: 967\n",
      "✔️ 0123456781011121314151617 score: 0.8181818181818182 count: 41\n",
      "✔️ 0234567891011121314151617 score: 0.75 count: 16\n",
      "⚠️ low score 1112131416 count: 8 score: 0.5\n",
      "⚠️ low score 0245678911121314151617 count: 9 score: 0.3333333333333333\n",
      "⚠️ low score 02456811121314151617 count: 17 score: 0.4\n",
      "✔️ 0124567811121314151617 score: 0.9090909090909091 count: 44\n",
      "✔️ 024681011121314151617 score: 0.6 count: 18\n",
      "✔️ 01245681011121314151617 score: 1.0 count: 12\n",
      "✔️ 111213141617 score: 1.0 count: 8\n",
      "⚠️ low score 02456781011121314151617 count: 31 score: 0.375\n",
      "✔️ 01245678911121314151617 score: 0.7272727272727273 count: 41\n",
      "✔️ 0567891011121314151617 score: 0.6666666666666666 count: 11\n",
      "⚠️ low score 511121314151617 count: 9 score: 0.0\n",
      "✔️ 012456781011121314151617 score: 1.0 count: 68\n",
      "✔️ 024567811121314151617 score: 0.8888888888888888 count: 34\n"
     ]
    }
   ],
   "source": [
    "# Create models\n",
    "\n",
    "def extract(datum, label):\n",
    "#     print(datum)\n",
    "    return (label, [float(d) for d in datum])\n",
    "\n",
    "model_scores = []\n",
    "\n",
    "for key in not_crossing:\n",
    "    if key in crossing:\n",
    "        data = [extract(d, 1) for d in not_crossing[key]]\n",
    "        data += [extract(d, 2) for d in crossing[key]]\n",
    "        \n",
    "        random.shuffle(data)\n",
    "        \n",
    "        X = normalize([d[1] for d in data])\n",
    "        y = [d[0] for d in data]\n",
    "        \n",
    "        N = len(X)\n",
    "        \n",
    "        if N < 8:\n",
    "            continue\n",
    "        \n",
    "        X_train = X[:3*N//4]\n",
    "        X_test = X[3*N//4:]\n",
    "        y_train = y[:3*N//4]\n",
    "        y_test = y[3*N//4:]\n",
    "        \n",
    "#         print(y_train)\n",
    "#         break;\n",
    "        \n",
    "        clf = make_pipeline(StandardScaler(), SVC(gamma='auto'))\n",
    "        \n",
    "        try:\n",
    "            clf.fit(X_train, y_train)\n",
    "            score = clf.score(X_test, y_test)\n",
    "            \n",
    "            if score < 0.6:\n",
    "                print(\"⚠️ low score \" + key + ' count: ' + str(N), 'score: ' + str(score))\n",
    "            else:\n",
    "                print('✔️ ' + key + ' score: ' + str(score), 'count: ' + str(N))\n",
    "                pickle.dump(clf, open('models/' + key + '_{:.2f}'.format(score) + '.sav', 'wb'))\n",
    "            \n",
    "            model_scores.append((key, score, N))\n",
    "        except:\n",
    "            # This means there is only one classification in training data. Caused by train/test split\n",
    "            print(\"❌ omitted \" + key + ' count: ' + str(N))"
   ]
  },
  {
   "cell_type": "code",
   "execution_count": 99,
   "metadata": {},
   "outputs": [
    {
     "data": {
      "text/plain": [
       "[('34567891011121314151617', 1.0, 73),\n",
       " ('012456781011121314151617', 1.0, 68),\n",
       " ('024567891011121314151617', 1.0, 33),\n",
       " ('0124681011121314151617', 1.0, 28),\n",
       " ('011121314151617', 1.0, 13),\n",
       " ('01245681011121314151617', 1.0, 12),\n",
       " ('111213141617', 1.0, 8),\n",
       " ('01234567891011121314151617', 0.9252336448598131, 426),\n",
       " ('0124567811121314151617', 0.9090909090909091, 44),\n",
       " ('111213141516', 0.8918918918918919, 148),\n",
       " ('024567811121314151617', 0.8888888888888888, 34),\n",
       " ('0123456781011121314151617', 0.8181818181818182, 41),\n",
       " ('0234567891011121314151617', 0.75, 16),\n",
       " ('01245678911121314151617', 0.7272727272727273, 41),\n",
       " ('567891011121314151617', 0.7, 39),\n",
       " ('0124567891011121314151617', 0.6900826446280992, 967),\n",
       " ('5681011121314151617', 0.6666666666666666, 12),\n",
       " ('0567891011121314151617', 0.6666666666666666, 11),\n",
       " ('611121314151617', 0.6666666666666666, 9),\n",
       " ('11121314151617', 0.6470588235294118, 65),\n",
       " ('024681011121314151617', 0.6, 18),\n",
       " ('012345678911121314151617', 0.5, 13),\n",
       " ('1112131416', 0.5, 8),\n",
       " ('02456811121314151617', 0.4, 17),\n",
       " ('02456781011121314151617', 0.375, 31),\n",
       " ('01234567811121314151617', 0.3333333333333333, 10),\n",
       " ('0245678911121314151617', 0.3333333333333333, 9),\n",
       " ('511121314151617', 0.0, 9)]"
      ]
     },
     "execution_count": 99,
     "metadata": {},
     "output_type": "execute_result"
    }
   ],
   "source": [
    "sorted(model_scores, key=lambda tup: (tup[1], tup[2]), reverse=True)"
   ]
  },
  {
   "cell_type": "markdown",
   "metadata": {},
   "source": [
    "### The best model: 01234567891011121314151617"
   ]
  }
 ],
 "metadata": {
  "kernelspec": {
   "display_name": "Python 3",
   "language": "python",
   "name": "python3"
  },
  "language_info": {
   "codemirror_mode": {
    "name": "ipython",
    "version": 3
   },
   "file_extension": ".py",
   "mimetype": "text/x-python",
   "name": "python",
   "nbconvert_exporter": "python",
   "pygments_lexer": "ipython3",
   "version": "3.7.6"
  }
 },
 "nbformat": 4,
 "nbformat_minor": 4
}
